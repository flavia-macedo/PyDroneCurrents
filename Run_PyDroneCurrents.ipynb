{
 "cells": [
  {
   "cell_type": "code",
   "execution_count": null,
   "id": "02515c8c-e79f-4d77-89c4-5935dcdd8af8",
   "metadata": {},
   "outputs": [],
   "source": [
    "# Run packages\n",
    "\n",
    "import numpy as np\n",
    "import cv2\n",
    "import matplotlib.pyplot as plt\n",
    "import PyDroneCurrents as pdc\n",
    "import sys\n",
    "sys.path.append('c:\\Flavia\\Mestrado\\Traducao_codigo')  #Put the path that contain the 'PyDroneCurrents'"
   ]
  },
  {
   "cell_type": "markdown",
   "id": "c98cca09-293a-46e4-ad1a-2c435f71f779",
   "metadata": {},
   "source": [
    "\n",
    "## Create georeference structure"
   ]
  },
  {
   "cell_type": "code",
   "execution_count": null,
   "id": "a04f27e6-0dcb-40e7-a9fd-0725dc51b24c",
   "metadata": {},
   "outputs": [],
   "source": [
    "#Path where video is localized:\n",
    "video_name = r'F:\\Flavia_drone\\Ponte_franceses_20230607\\Primeira_tomada\\100_metros\\DJI_0011.MP4'\n",
    "\n",
    "# Add metadata in dictionary form:\n",
    "# To obtain the video's metadata, it is necessary to use a separate tool, such as MediaInfo.\n",
    "CamPos_ST= {'LONGITUDE':- 52.088902,'LATITUDE': -32.058870,'Height': 100.7,'yaw': 18.3,'pitch': -89.9, 'roll': 0}\n",
    "\n",
    "#Time in seconds between frames:\n",
    "#Interval in seconds between extracted frames. Must be a multiple of the video frame rate. \n",
    "#If the selected dt is not a multiple of the video frame the value will be adjusted to the nearest multiple.\n",
    "dt = 0.0834167\n",
    "\n",
    "#Time of the video to be analyzed in seconds [initial_time, end_time] :\n",
    "time_limits = [5,15]\n",
    "\n",
    "#Distance between the home point and the water surface in meters:\n",
    "offset_homewater_Z = 0.1\n",
    "\n",
    "#Input of manually entered camera calibration data:\n",
    "#The parameters used were obtained from the Phantom 4 pro V2 camera calibration, in 4K resolution.(3840X2160)\n",
    "file_cal={'fov_diag':77.546012315234050, 'fov_x':69.990877420892020, 'fov_y':42.989041303399810,  'size_X': 3840, 'size_Y':2160, 'camera_offset_Z':0}\n",
    "\n",
    "# file_cal:\n",
    "    # fov_diag = diagonal field of view angle;\n",
    "    # fov_x = x (horizontal) field of view angle;\n",
    "    # fov_y = y (vertical) field of view angle;\n",
    "    # size_X = frame pixel size in x (horizontal);\n",
    "    # size_Y = frame pixel size in y (vertical);\n",
    "    # camera_offset_Z = vertical (Z) distance in meters; \n"
   ]
  },
  {
   "cell_type": "code",
   "execution_count": null,
   "id": "0a8302db-976d-4f5e-a5c9-9514567369b4",
   "metadata": {},
   "outputs": [],
   "source": [
    "# Adjust the georeference structure\n",
    "video_name, dt, offset_homewater_Z, file_cal = pdc.create_struct_georeference(video_name, dt, offset_homewater_Z, file_cal)"
   ]
  },
  {
   "cell_type": "markdown",
   "id": "2e508700-cced-43a7-a2f7-d0730ef124c8",
   "metadata": {
    "tags": []
   },
   "source": [
    "## Generate sequence image"
   ]
  },
  {
   "cell_type": "code",
   "execution_count": null,
   "id": "469b7c90-b902-40ff-81e1-56a58b745ecc",
   "metadata": {},
   "outputs": [],
   "source": [
    "IMG_SEQ = pdc.run_georeference_struct(CamPos_ST, video_name, time_limits, file_cal, dt)"
   ]
  },
  {
   "cell_type": "markdown",
   "id": "48e638f8-3e69-4b9e-a8e5-925c0b3bca4d",
   "metadata": {},
   "source": [
    "## Get Windows"
   ]
  },
  {
   "cell_type": "code",
   "execution_count": null,
   "id": "9e4b37ff-ee7d-4b3b-85b5-084d4ac2ff68",
   "metadata": {},
   "outputs": [],
   "source": [
    "STCFIT = pdc.get_STCFIT_from_IMG_SEQ(IMG_SEQ)"
   ]
  },
  {
   "cell_type": "markdown",
   "id": "ad1dc64d-becd-4250-ac83-6508a18bbc55",
   "metadata": {},
   "source": [
    "## Run Currents"
   ]
  },
  {
   "cell_type": "code",
   "execution_count": null,
   "id": "d691ef7d-233d-40e0-8735-2ee14e59f671",
   "metadata": {},
   "outputs": [],
   "source": [
    "FG_Ux, FG_Uy, SG_Ux, SG_Uy, STCFIT = pdc.run_currents(STCFIT, IMG_SEQ)"
   ]
  },
  {
   "cell_type": "markdown",
   "id": "73fb09e6-49c1-4c8d-8c71-db1540a87ea2",
   "metadata": {
    "tags": []
   },
   "source": [
    "## Save velocity vector"
   ]
  },
  {
   "cell_type": "markdown",
   "id": "be5d0085-c4c0-4b1f-83bf-d6583dd28682",
   "metadata": {},
   "source": [
    "#### If you can save the list of vectors velocity in a file txt for open separate, run the cell bellow:\n"
   ]
  },
  {
   "cell_type": "code",
   "execution_count": null,
   "id": "0e634ad2-9aa3-47b2-8346-0620f909aa53",
   "metadata": {},
   "outputs": [],
   "source": [
    "#Save the u vector (velocity in x):\n",
    "np.savetxt('SG_Ux.csv', SG_Ux, delimiter=',',fmt='%f') # The file will save on the path that stay this nottebook run\n",
    "# The file will save on the path that stay this notebook run, with the name SG_Ux\n",
    "\n",
    "#Save the v vector (velocity in y)\n",
    "np.savetxt('SG_Uy.csv', SG_Uy, delimiter=',',fmt='%f')\n",
    "# The file will save on the path that stay this notebook run, with the name SG_Uy\n"
   ]
  },
  {
   "cell_type": "markdown",
   "id": "7b7f6dca-3298-484f-87b1-0c0ec3927d44",
   "metadata": {
    "tags": []
   },
   "source": [
    "## Plot currents in camera grid"
   ]
  },
  {
   "cell_type": "code",
   "execution_count": null,
   "id": "58c5a88a-6465-4985-a408-64663e737e09",
   "metadata": {},
   "outputs": [],
   "source": [
    "plot_vectors, x1, y1 = pdc.plot_currents_camera(SG_Ux, SG_Uy, STCFIT, CamPos_ST)"
   ]
  },
  {
   "cell_type": "markdown",
   "id": "e44fb935-afb1-4c9f-919f-79c3224a2251",
   "metadata": {},
   "source": [
    "## Georeferenced vectors"
   ]
  },
  {
   "cell_type": "code",
   "execution_count": null,
   "id": "cda9027b-19eb-4031-b602-166952cde98d",
   "metadata": {},
   "outputs": [],
   "source": [
    "Ux_geo, Uy_geo, grid_long_geo, grid_lat_geo, long_geo, lat_geo= pdc.georeference_vectors(CamPos_ST,STCFIT, x1, y1, SG_Ux, SG_Uy)"
   ]
  },
  {
   "cell_type": "markdown",
   "id": "ae5922c3-03ad-48a4-ac0c-83783173b9b6",
   "metadata": {},
   "source": [
    "## Plot georeference vectors"
   ]
  },
  {
   "cell_type": "code",
   "execution_count": null,
   "id": "2c252b0e-1347-4132-ad5c-d904c6582d51",
   "metadata": {},
   "outputs": [],
   "source": [
    "vec_geo= pdc.plot_georeference_vectors(STCFIT, grid_long_geo, grid_lat_geo, long_geo, lat_geo, Ux_geo, Uy_geo)"
   ]
  },
  {
   "cell_type": "markdown",
   "id": "bea4d79e-1cf6-42d0-a0f0-e823e7519a65",
   "metadata": {},
   "source": [
    "## Plot windows"
   ]
  },
  {
   "cell_type": "code",
   "execution_count": null,
   "id": "1d1153a7-90c6-43a2-923f-24e615ad78bf",
   "metadata": {},
   "outputs": [],
   "source": [
    "plot_windows = pdc.plot_windows(STCFIT)"
   ]
  }
 ],
 "metadata": {
  "kernelspec": {
   "display_name": "Python 3 (ipykernel)",
   "language": "python",
   "name": "python3"
  },
  "language_info": {
   "codemirror_mode": {
    "name": "ipython",
    "version": 3
   },
   "file_extension": ".py",
   "mimetype": "text/x-python",
   "name": "python",
   "nbconvert_exporter": "python",
   "pygments_lexer": "ipython3",
   "version": "3.10.5"
  }
 },
 "nbformat": 4,
 "nbformat_minor": 5
}
